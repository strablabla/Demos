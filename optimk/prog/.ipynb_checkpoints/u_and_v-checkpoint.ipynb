{
 "cells": [
  {
   "cell_type": "code",
   "execution_count": 10,
   "metadata": {},
   "outputs": [
    {
     "name": "stdout",
     "output_type": "stream",
     "text": [
      "Using matplotlib backend: Qt5Agg\n"
     ]
    }
   ],
   "source": [
    "%matplotlib\n",
    "import numpy as np\n",
    "from matplotlib import pyplot as plt\n",
    "\n",
    "\n",
    "\n",
    "s = 10\n",
    "n = 200\n",
    "\n",
    "Ps = 500\n",
    "Pn = 300\n",
    "a = s/Ps\n",
    "b = n/Pn\n",
    "k = a-b\n",
    "l = s+n #-200\n",
    "x = np.arange(l)\n",
    "\n",
    "def u(x):\n",
    "    #return ((-(l+x)*(a*x+k)-n-p)-np.sqrt(((l+x)*(a*x+k)+n+p)**2 + 4*n*(l+x)*(a*x+k)))/(2*n*(a*x+k))\n",
    "    return ((s*a+n*b+k*(l-x)) - np.sqrt((s*a+n*b+k*(l-x))**2 - 4*k*s*a*(l-x)))/(2*s*k)\n",
    "def v(x):\n",
    "    return b*u(x)/(a-u(x)*k)\n",
    "\n",
    "### Plots\n",
    "\n",
    "plt.plot(u(x), label=\"u(t)\")\n",
    "#plt.plot(v(x), label=\"v(t)\")\n",
    "\n",
    "plt.legend()\n",
    "if False:\n",
    "    plt.figure()\n",
    "    plt.title('whole signal')\n",
    "    plt.plot(np.sqrt(Ps*(1-u(x))**2+Pn*(1-v(x))**2))\n",
    "plt.show()"
   ]
  },
  {
   "cell_type": "code",
   "execution_count": 2,
   "metadata": {},
   "outputs": [
    {
     "name": "stderr",
     "output_type": "stream",
     "text": [
      "/home/lio/anaconda3/lib/python3.6/site-packages/ipykernel_launcher.py:20: RuntimeWarning: invalid value encountered in sqrt\n"
     ]
    },
    {
     "data": {
      "text/plain": [
       "nan"
      ]
     },
     "execution_count": 2,
     "metadata": {},
     "output_type": "execute_result"
    }
   ],
   "source": [
    "u(0)"
   ]
  },
  {
   "cell_type": "code",
   "execution_count": 8,
   "metadata": {},
   "outputs": [
    {
     "data": {
      "text/plain": [
       "-103.50222222222216"
      ]
     },
     "execution_count": 8,
     "metadata": {},
     "output_type": "execute_result"
    }
   ],
   "source": [
    "(s*a+n*b+k*(l))**2 + 4*k*s*a*(l)"
   ]
  },
  {
   "cell_type": "code",
   "execution_count": null,
   "metadata": {},
   "outputs": [],
   "source": []
  }
 ],
 "metadata": {
  "kernelspec": {
   "display_name": "Python 3",
   "language": "python",
   "name": "python3"
  },
  "language_info": {
   "codemirror_mode": {
    "name": "ipython",
    "version": 3
   },
   "file_extension": ".py",
   "mimetype": "text/x-python",
   "name": "python",
   "nbconvert_exporter": "python",
   "pygments_lexer": "ipython3",
   "version": "3.6.4"
  }
 },
 "nbformat": 4,
 "nbformat_minor": 2
}
