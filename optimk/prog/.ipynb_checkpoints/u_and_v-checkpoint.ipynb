{
 "cells": [
  {
   "cell_type": "code",
   "execution_count": 2,
   "metadata": {},
   "outputs": [
    {
     "name": "stdout",
     "output_type": "stream",
     "text": [
      "Using matplotlib backend: Qt5Agg\n"
     ]
    }
   ],
   "source": [
    "%matplotlib\n",
    "import numpy as np\n",
    "from matplotlib import pyplot as plt\n",
    "\n",
    "x = np.arange(100)\n",
    "\n",
    "p = 10\n",
    "n = 100\n",
    "a = n/p\n",
    "k = 30\n",
    "l = -200\n",
    "\n",
    "def v(x):\n",
    "    return ((-(l+x)*(a*x+k)-n-p)-np.sqrt(((l+x)*(a*x+k)+n+p)**2 + 4*n*(l+x)*(a*x+k)))/(2*n*(a*x+k))\n",
    "def u(x):\n",
    "    return v(x)/(1+(a*x+k)*v(x))\n",
    "plt.plot(v(x), label=\"v(t)\")\n",
    "plt.plot(u(x), label=\"u(t)\")\n",
    "plt.legend()\n",
    "plt.figure()\n",
    "plt.title('')\n",
    "plt.plot(np.sqrt(u(x)**2+v(x)**2))\n",
    "plt.show()"
   ]
  },
  {
   "cell_type": "code",
   "execution_count": null,
   "metadata": {},
   "outputs": [],
   "source": []
  }
 ],
 "metadata": {
  "kernelspec": {
   "display_name": "Python 3",
   "language": "python",
   "name": "python3"
  },
  "language_info": {
   "codemirror_mode": {
    "name": "ipython",
    "version": 3
   },
   "file_extension": ".py",
   "mimetype": "text/x-python",
   "name": "python",
   "nbconvert_exporter": "python",
   "pygments_lexer": "ipython3",
   "version": "3.6.4"
  }
 },
 "nbformat": 4,
 "nbformat_minor": 2
}
