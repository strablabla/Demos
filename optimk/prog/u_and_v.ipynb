{
 "cells": [
  {
   "cell_type": "code",
   "execution_count": 6,
   "metadata": {},
   "outputs": [
    {
     "name": "stdout",
     "output_type": "stream",
     "text": [
      "Using matplotlib backend: Qt5Agg\n"
     ]
    }
   ],
   "source": [
    "%matplotlib\n",
    "import numpy as np\n",
    "from matplotlib import pyplot as plt"
   ]
  },
  {
   "cell_type": "code",
   "execution_count": 7,
   "metadata": {},
   "outputs": [],
   "source": [
    "def params(s,n,Ps,Pn):\n",
    "    '''\n",
    "    s : nb dim peaks sig\n",
    "    n : nb dim noise\n",
    "    Ps : power sig\n",
    "    Pn : power noise\n",
    "    '''\n",
    "    a = s/Ps\n",
    "    b = n/Pn\n",
    "    k = a-b\n",
    "    l = s+n #-200\n",
    "    return a,b,k,l"
   ]
  },
  {
   "cell_type": "markdown",
   "metadata": {},
   "source": [
    "# Analytical solution"
   ]
  },
  {
   "cell_type": "code",
   "execution_count": 8,
   "metadata": {},
   "outputs": [],
   "source": [
    "class ANALYT(object):\n",
    "    '''\n",
    "    Analytical solution\n",
    "    '''\n",
    "    def __init__(self):\n",
    "        self.x = np.arange(l)\n",
    "    @property\n",
    "    def sig(self):\n",
    "        return 1-((s*a+n*b+k*(l-self.x)) - np.sqrt((s*a+n*b+k*(l-self.x))**2 - 4*k*s*a*(l-self.x)))/(2*s*k)\n",
    "    @property\n",
    "    def noise(self):\n",
    "        return 1-b*self.u(self.x)/(a-self.u(self.x)*k)"
   ]
  },
  {
   "cell_type": "markdown",
   "metadata": {},
   "source": [
    "# Numerical solution"
   ]
  },
  {
   "cell_type": "code",
   "execution_count": 9,
   "metadata": {},
   "outputs": [],
   "source": [
    "class NUMER(object):\n",
    "    '''\n",
    "    Numerical solution\n",
    "    '''\n",
    "    def __init__(self):\n",
    "        self.sig = []                   # signal\n",
    "        self.noise = []                 # noise\n",
    "        self.xis = self.xin = 0\n",
    "        self.calc()\n",
    "    def calc(self):\n",
    "        for i in range(l):\n",
    "            empty = (Ps*(1-self.xis)**2 + Pn*(1 - self.xin)**2)         # power not yet retrieved.\n",
    "            self.xis += Ps*(1-self.xis)**2/empty/s                      # part of signal dimension retrieved\n",
    "            self.xin += Pn*(1-self.xin)**2/empty/n                      # part of noise dimension retrieved\n",
    "            self.sig.append(self.xis)\n",
    "            self.noise.append(self.xin)"
   ]
  },
  {
   "cell_type": "markdown",
   "metadata": {},
   "source": [
    "# Comparison analytical and numerical"
   ]
  },
  {
   "cell_type": "code",
   "execution_count": 18,
   "metadata": {},
   "outputs": [],
   "source": [
    "lpar = [[40,400, 200, 30], [20,420, 200, 30],\n",
    "        [20,420, 200, 60],[20,420, 200, 120],\n",
    "        [20,420, 200, 180], [60,380, 200, 180]]\n",
    "\n",
    "for s,n,Ps,Pn in lpar:                 # nb dim peaks sig, nb dim noise, power sig, power noise.. \n",
    "    a,b,k,l = params(s,n,Ps,Pn)\n",
    "    ana = ANALYT()\n",
    "    num = NUMER()\n",
    "    ###\n",
    "    plt.plot(num.sig, label=\"numerical\")\n",
    "    plt.plot(ana.sig,'--', label=\"analytical\")\n",
    "    plt.legend()\n",
    "plt.show()"
   ]
  },
  {
   "cell_type": "code",
   "execution_count": null,
   "metadata": {},
   "outputs": [],
   "source": []
  }
 ],
 "metadata": {
  "kernelspec": {
   "display_name": "Python 3",
   "language": "python",
   "name": "python3"
  },
  "language_info": {
   "codemirror_mode": {
    "name": "ipython",
    "version": 3
   },
   "file_extension": ".py",
   "mimetype": "text/x-python",
   "name": "python",
   "nbconvert_exporter": "python",
   "pygments_lexer": "ipython3",
   "version": "3.6.4"
  }
 },
 "nbformat": 4,
 "nbformat_minor": 2
}
