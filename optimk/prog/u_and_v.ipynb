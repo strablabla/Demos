{
 "cells": [
  {
   "cell_type": "code",
   "execution_count": 2,
   "metadata": {},
   "outputs": [
    {
     "name": "stdout",
     "output_type": "stream",
     "text": [
      "Using matplotlib backend: Qt5Agg\n"
     ]
    }
   ],
   "source": [
    "%matplotlib\n",
    "import numpy as np\n",
    "from matplotlib import pyplot as plt\n",
    "import signal_tools as st\n",
    "from urQRd import urQRd\n",
    "from scipy.linalg import norm"
   ]
  },
  {
   "cell_type": "code",
   "execution_count": 3,
   "metadata": {},
   "outputs": [],
   "source": [
    "def params(s,n,Ps,Pn):\n",
    "    '''\n",
    "    s : nb dim peaks sig\n",
    "    n : nb dim noise\n",
    "    Ps : power sig\n",
    "    Pn : power noise\n",
    "    '''\n",
    "    a = s/Ps\n",
    "    b = n/Pn\n",
    "    k = a-b\n",
    "    l = s+n #-200\n",
    "    return a,b,k,l"
   ]
  },
  {
   "cell_type": "markdown",
   "metadata": {},
   "source": [
    "# Analytical solution"
   ]
  },
  {
   "cell_type": "code",
   "execution_count": 4,
   "metadata": {},
   "outputs": [],
   "source": [
    "class ANALYT(object):\n",
    "    '''\n",
    "    Analytical solution\n",
    "    '''\n",
    "    def __init__(self):\n",
    "        self.x = np.arange(l)\n",
    "    @property\n",
    "    def sig(self):\n",
    "        return 1-((s*a+n*b+k*(l-self.x)) - np.sqrt((s*a+n*b+k*(l-self.x))**2 - 4*k*s*a*(l-self.x)))/(2*s*k)\n",
    "    @property\n",
    "    def noise(self):\n",
    "        #return 1-b*self.sig/(a-self.sig*k)\n",
    "        #return b*self.sig/(a-self.sig*k)\n",
    "        return 1-((-n*b-s*a+k*(l-self.x)) + np.sqrt((-n*b-s*a+k*(l-self.x))**2 + 4*k*n*b*(l-self.x)))/(2*n*k)"
   ]
  },
  {
   "cell_type": "markdown",
   "metadata": {},
   "source": [
    "# Numerical solution"
   ]
  },
  {
   "cell_type": "code",
   "execution_count": 5,
   "metadata": {},
   "outputs": [],
   "source": [
    "class NUMER(object):\n",
    "    '''\n",
    "    Numerical solution\n",
    "    '''\n",
    "    def __init__(self):\n",
    "        self.sig = []                   # signal\n",
    "        self.noise = []                 # noise\n",
    "        self.xis = self.xin = 0\n",
    "        self.calc()\n",
    "    def calc(self):\n",
    "        for i in range(l):\n",
    "            empty = (Ps*(1-self.xis)**2 + Pn*(1 - self.xin)**2)         # power not yet retrieved.\n",
    "            self.xis += Ps*(1-self.xis)**2/empty/s                      # part of signal dimension retrieved\n",
    "            self.xin += Pn*(1-self.xin)**2/empty/n                      # part of noise dimension retrieved\n",
    "            self.sig.append(self.xis)\n",
    "            self.noise.append(self.xin)\n",
    "        self.sig = np.array(self.sig)\n",
    "        self.noise = np.array(self.noise)"
   ]
  },
  {
   "cell_type": "markdown",
   "metadata": {},
   "source": [
    "# Comparison analytical and numerical"
   ]
  },
  {
   "cell_type": "raw",
   "metadata": {},
   "source": [
    "lpar = [[40,400, 200, 30], [20,420, 200, 30],\n",
    "        [20,420, 200, 60],[20,420, 200, 120],\n",
    "        [20,420, 200, 180], [60,380, 200, 180]]\n",
    "\n",
    "for s,n,Ps,Pn in lpar:                 # nb dim peaks sig, nb dim noise, power sig, power noise.. \n",
    "    a,b,k,l = params(s,n,Ps,Pn)\n",
    "    ana = ANALYT()\n",
    "    num = NUMER()\n",
    "    ###\n",
    "    plt.plot(num.sig, label=\"numerical\")\n",
    "    plt.plot(ana.sig,'--', label=\"analytical\")\n",
    "    plt.legend()\n",
    "plt.show()"
   ]
  },
  {
   "cell_type": "markdown",
   "metadata": {},
   "source": [
    "# Make the signal"
   ]
  },
  {
   "cell_type": "code",
   "execution_count": 57,
   "metadata": {},
   "outputs": [
    {
     "name": "stdout",
     "output_type": "stream",
     "text": [
      "########### using list\n",
      "self.Amp  [70.0, 70.0, 70.0, 70.0, 70.0, 70.0, 70.0, 70.0, 70.0, 70.0]\n",
      "(493.3477308788184, 1308.5750676328125)\n",
      "[70.0, 70.0, 70.0, 70.0, 70.0, 70.0, 70.0, 70.0, 70.0, 70.0]\n"
     ]
    },
    {
     "name": "stderr",
     "output_type": "stream",
     "text": [
      "/home/lio/anaconda3/lib/python3.6/site-packages/numpy/core/numeric.py:492: ComplexWarning: Casting complex values to real discards the imaginary part\n",
      "  return array(a, dtype, copy=False, order=order)\n"
     ]
    }
   ],
   "source": [
    "nbpeaks = 10\n",
    "lenfid = 4000\n",
    "noise = 15\n",
    "ampl = 70\n",
    "lampl = list(ampl*np.ones(nbpeaks))\n",
    "sig = st.SIGNAL_NOISE( lenfid= lenfid, nbpeaks = nbpeaks, \n",
    "          amplitude = lampl,   # *np.random.randn(nbpeaks)\n",
    "          shape='list', noise = noise)\n",
    "nlevel = st.findnoiselevel_offset(sig.spec, nbseg=50)\n",
    "print(nlevel)\n",
    "print(lampl)\n",
    "nup = 2*(nlevel[0]+nlevel[1])\n",
    "if True:\n",
    "    plt.plot(sig.spec)\n",
    "\n",
    "    #plt.plot([0,sig.spec.size-1], [1e4, 1e4])\n",
    "    #plt.plot([0,sig.spec.size-1], [nlevel[1], nlevel[1]])\n",
    "    plt.plot([0,sig.spec.size-1], [nup,nup])"
   ]
  },
  {
   "cell_type": "raw",
   "metadata": {},
   "source": [
    "denoised = np.abs(np.fft.fft(urQRd(sig.fid, 10*nbpeaks, orda=sig.spec.size//2)))\n",
    "\n",
    "plt.plot(sig.spec)\n",
    "\n",
    "#plt.plot([0,sig.spec.size-1], [1e4, 1e4])\n",
    "#plt.plot([0,sig.spec.size-1], [nlevel[1], nlevel[1]])\n",
    "plt.plot([0,sig.spec.size-1], [nup,nup])\n",
    "#plt.plot(denoised)"
   ]
  },
  {
   "cell_type": "markdown",
   "metadata": {},
   "source": [
    "# Experimental curve"
   ]
  },
  {
   "cell_type": "code",
   "execution_count": 58,
   "metadata": {},
   "outputs": [],
   "source": [
    "#lnormden = [0]\n",
    "lnormden = []\n",
    "step = 10\n",
    "for k in range(1,sig.spec.size//2, step):\n",
    "    if k%(10*step) == 0:\n",
    "        print(k)\n",
    "    denoised = np.abs(np.fft.fft(urQRd(sig.fid, k, orda=sig.spec.size//2)))\n",
    "    lnormden.append(norm(denoised))"
   ]
  },
  {
   "cell_type": "markdown",
   "metadata": {},
   "source": [
    "# Analytic evolution"
   ]
  },
  {
   "cell_type": "code",
   "execution_count": 59,
   "metadata": {},
   "outputs": [
    {
     "name": "stdout",
     "output_type": "stream",
     "text": [
      "Troncature  97801484674.00461\n",
      "P_urQRd  97010316082.80835\n",
      "Ps/P_urQRd (1.0081555098791857+0j) \n"
     ]
    },
    {
     "name": "stderr",
     "output_type": "stream",
     "text": [
      "/home/lio/anaconda3/lib/python3.6/site-packages/numpy/core/numeric.py:492: ComplexWarning: Casting complex values to real discards the imaginary part\n",
      "  return array(a, dtype, copy=False, order=order)\n"
     ]
    },
    {
     "data": {
      "text/plain": [
       "<matplotlib.legend.Legend at 0x7f790db0dac8>"
      ]
     },
     "execution_count": 59,
     "metadata": {},
     "output_type": "execute_result"
    }
   ],
   "source": [
    "Ps = (sig.spec[sig.spec>nup]**2).sum()\n",
    "Pss = (np.abs(np.fft.fft(urQRd(sig.fid, 15*nbpeaks, orda=sig.spec.size//2)))**2).sum()\n",
    "print(\"Troncature \",Ps.real)\n",
    "print(\"P_urQRd \", Pss)\n",
    "print(\"Ps/P_urQRd {0} \".format(Ps/Pss))\n",
    "s = nbpeaks\n",
    "Pn = (sig.spec[sig.spec<nup]**2).sum()\n",
    "n = lenfid//2-s\n",
    "\n",
    "a,b,k,l = params(s,n,Ps,Pn)\n",
    "ana = ANALYT()\n",
    "#retriev_sig = np.sqrt(Ps*ana.sig**2 + Pn*ana.noise**2)\n",
    "retriev_sig = np.sqrt(Ps)*ana.sig # + np.sqrt(Pn)*ana.noise\n",
    "#plt.plot(retriev_sig,'--', label=\"analytical\")\n",
    "#plt.plot(ana.sig)\n",
    "#plt.plot(ana.noise)\n",
    "\n",
    "num = NUMER()\n",
    "#retriev_sig = np.sqrt(Ps.real*num.sig**2 + Pn.real*num.noise**2)\n",
    "retriev_sig = np.sqrt(Ps.real*num.sig**2 + Pn.real*(1-(1-num.noise)**2))\n",
    "retriev_sig = np.sqrt(Pss.real*num.sig**2 +1.1*Pn*(1-((1-num.noise)**2)))\n",
    "#retriev_sig = (np.sqrt(Pss.real)*num.sig + np.sqrt(Pn.real)*num.noise)*(np.sqrt(Pss+Pn)/(np.sqrt(Pss)+np.sqrt(Pn)))\n",
    "#retriev_sig = np.sqrt(Ps.real*num.sig**3.3 + Pn.real*(1-(1-num.noise)**1.5))\n",
    "#retriev_sig = np.sqrt(Ps.real*0.99*num.sig**2 + Pn.real*(1-1.1*(1-num.noise)**1.8))\n",
    "#retriev_sig = (np.sqrt(Ps.real)*0.99*num.sig + np.sqrt(Pn.real*(1-1.1*(1-num.noise)**2)))*0.7\n",
    "#retriev_sig = np.sqrt(Ps.real)*num.sig**2\n",
    "#retriev_sig = np.sqrt(Ps.real*num.sig**2*0.9 + Pn.real*(1-(1-num.noise)**2)*0.9)\n",
    "#retriev_sig = np.sqrt(Ps.real*num.sig**2*0.96 + Pn.real*(1-0.9*(1-num.noise)**2))\n",
    "#retriev_sig = np.sqrt(Ps.real)*num.sig**2  + np.sqrt(Pn.real)*(1-(1-num.noise)**2)*0.3\n",
    "#retriev_sig = np.sqrt(Ps.real)*num.sig**2  #+ np.sqrt(Pn.real)*num.noise\n",
    "#retriev_sig = (Ps.real*num.sig**2 + Pn.real*(1-(1-num.noise)**2))*np.sqrt(Ps+Pn)/(Ps+Pn)\n",
    "# 1-(1-num.noise)**2\n",
    "#retriev_sig = np.sqrt(Ps.real*num.sig + Pn.real*num.noise)\n",
    "#retriev_sig = np.sqrt(Ps).real*num.sig + np.sqrt(Pn).real*num.noise\n",
    "\n",
    "plt.title(\"Comparisons analytique et expérimental\")\n",
    "plt.plot(lnormden, label=\"experimental\")\n",
    "plt.plot(retriev_sig[::step],'--', label=\"analytical\")\n",
    "plt.legend()"
   ]
  },
  {
   "cell_type": "markdown",
   "metadata": {},
   "source": [
    "# Signal"
   ]
  },
  {
   "cell_type": "code",
   "execution_count": 47,
   "metadata": {},
   "outputs": [
    {
     "name": "stderr",
     "output_type": "stream",
     "text": [
      "/home/lio/anaconda3/lib/python3.6/site-packages/numpy/core/numeric.py:492: ComplexWarning: Casting complex values to real discards the imaginary part\n",
      "  return array(a, dtype, copy=False, order=order)\n"
     ]
    },
    {
     "data": {
      "text/plain": [
       "[<matplotlib.lines.Line2D at 0x7f790ead97f0>]"
      ]
     },
     "execution_count": 47,
     "metadata": {},
     "output_type": "execute_result"
    }
   ],
   "source": [
    "plt.plot(sig.spec)\n",
    "plt.plot(np.abs(np.fft.fft(urQRd(sig.fid, 10*nbpeaks, orda=sig.spec.size//2))))"
   ]
  },
  {
   "cell_type": "code",
   "execution_count": null,
   "metadata": {},
   "outputs": [],
   "source": [
    "np.sqrt(Ps.real)"
   ]
  },
  {
   "cell_type": "code",
   "execution_count": 35,
   "metadata": {},
   "outputs": [
    {
     "name": "stderr",
     "output_type": "stream",
     "text": [
      "/home/lio/anaconda3/lib/python3.6/site-packages/numpy/core/numeric.py:492: ComplexWarning: Casting complex values to real discards the imaginary part\n",
      "  return array(a, dtype, copy=False, order=order)\n"
     ]
    },
    {
     "data": {
      "text/plain": [
       "[<matplotlib.lines.Line2D at 0x7f790feaecc0>]"
      ]
     },
     "execution_count": 35,
     "metadata": {},
     "output_type": "execute_result"
    }
   ],
   "source": [
    "plt.plot(lnormden)\n",
    "plt.plot(retriev_sig[::step],'--', label=\"analytical\")"
   ]
  },
  {
   "cell_type": "raw",
   "metadata": {},
   "source": [
    "plt.plot(Pn*ana.noise)"
   ]
  },
  {
   "cell_type": "code",
   "execution_count": null,
   "metadata": {},
   "outputs": [],
   "source": [
    "plt.plot(1-(1-num.noise)**2)\n",
    "plt.plot(1-(1-ana.noise)**2)\n"
   ]
  },
  {
   "cell_type": "code",
   "execution_count": null,
   "metadata": {},
   "outputs": [],
   "source": [
    "lnormden.insert(0, 0)"
   ]
  },
  {
   "cell_type": "code",
   "execution_count": null,
   "metadata": {},
   "outputs": [],
   "source": [
    "lnormden[0]"
   ]
  },
  {
   "cell_type": "code",
   "execution_count": null,
   "metadata": {},
   "outputs": [],
   "source": [
    "plt.plot(num.sig)\n",
    "plt.plot(ana.sig)"
   ]
  },
  {
   "cell_type": "code",
   "execution_count": null,
   "metadata": {},
   "outputs": [],
   "source": [
    "plt.plot(num.noise)\n",
    "plt.plot(ana.noise)"
   ]
  },
  {
   "cell_type": "code",
   "execution_count": null,
   "metadata": {},
   "outputs": [],
   "source": [
    "dir(lnormden)"
   ]
  },
  {
   "cell_type": "code",
   "execution_count": null,
   "metadata": {},
   "outputs": [],
   "source": [
    "lnormden.remove(0)"
   ]
  },
  {
   "cell_type": "code",
   "execution_count": null,
   "metadata": {},
   "outputs": [],
   "source": [
    "lnormden[0]"
   ]
  },
  {
   "cell_type": "code",
   "execution_count": null,
   "metadata": {},
   "outputs": [],
   "source": []
  }
 ],
 "metadata": {
  "kernelspec": {
   "display_name": "Python 3",
   "language": "python",
   "name": "python3"
  }
 },
 "nbformat": 4,
 "nbformat_minor": 2
}
