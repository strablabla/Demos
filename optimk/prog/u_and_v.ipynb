{
 "cells": [
  {
   "cell_type": "code",
   "execution_count": 9,
   "metadata": {},
   "outputs": [
    {
     "name": "stdout",
     "output_type": "stream",
     "text": [
      "Using matplotlib backend: Qt5Agg\n"
     ]
    }
   ],
   "source": [
    "%matplotlib\n",
    "import numpy as np\n",
    "from matplotlib import pyplot as plt\n",
    "\n",
    "\n",
    "\n",
    "s = 30\n",
    "n = 200\n",
    "\n",
    "Ps = 500\n",
    "Pn = 30\n",
    "a = s/Ps\n",
    "b = n/Pn\n",
    "k = a-b\n",
    "l = s+n #-200\n",
    "x = np.arange(l)\n",
    "\n",
    "def u(x):\n",
    "    #return ((-(l+x)*(a*x+k)-n-p)-np.sqrt(((l+x)*(a*x+k)+n+p)**2 + 4*n*(l+x)*(a*x+k)))/(2*n*(a*x+k))\n",
    "    return ((s*a+n*b+k*(l-x)) - np.sqrt((s*a+n*b+k*(l-x))**2 - 4*k*s*a*(l-x)))/(2*s*k)\n",
    "def v(x):\n",
    "    return b*u(x)/(a-u(x)*k)\n",
    "\n",
    "### Plots\n",
    "\n",
    "plt.plot(u(x), label=\"u(t)\")\n",
    "#plt.plot(v(x), label=\"v(t)\")\n",
    "\n",
    "plt.legend()\n",
    "if True:\n",
    "    plt.figure()\n",
    "    plt.title('whole signal')\n",
    "    plt.plot(np.sqrt(Ps*(1-u(x))**2+Pn*(1-v(x))**2))\n",
    "plt.show()"
   ]
  },
  {
   "cell_type": "code",
   "execution_count": 2,
   "metadata": {},
   "outputs": [
    {
     "data": {
      "text/plain": [
       "1.0000000000000013"
      ]
     },
     "execution_count": 2,
     "metadata": {},
     "output_type": "execute_result"
    }
   ],
   "source": [
    "u(0)"
   ]
  },
  {
   "cell_type": "code",
   "execution_count": 14,
   "metadata": {},
   "outputs": [
    {
     "data": {
      "text/plain": [
       "227.79901309909772"
      ]
     },
     "execution_count": 14,
     "metadata": {},
     "output_type": "execute_result"
    }
   ],
   "source": [
    "mu = 0.0001\n",
    "((s-mu)*a+n*b)*mu/(k*mu-a)+l"
   ]
  },
  {
   "cell_type": "code",
   "execution_count": 12,
   "metadata": {},
   "outputs": [
    {
     "data": {
      "text/plain": [
       "230"
      ]
     },
     "execution_count": 12,
     "metadata": {},
     "output_type": "execute_result"
    }
   ],
   "source": [
    "l"
   ]
  },
  {
   "cell_type": "code",
   "execution_count": null,
   "metadata": {},
   "outputs": [],
   "source": []
  }
 ],
 "metadata": {
  "kernelspec": {
   "display_name": "Python 3",
   "language": "python",
   "name": "python3"
  },
  "language_info": {
   "codemirror_mode": {
    "name": "ipython",
    "version": 3
   },
   "file_extension": ".py",
   "mimetype": "text/x-python",
   "name": "python",
   "nbconvert_exporter": "python",
   "pygments_lexer": "ipython3",
   "version": "3.6.4"
  }
 },
 "nbformat": 4,
 "nbformat_minor": 2
}
